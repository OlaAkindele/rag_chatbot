{
  "nbformat": 4,
  "nbformat_minor": 0,
  "metadata": {
    "colab": {
      "provenance": []
    },
    "kernelspec": {
      "name": "python3",
      "display_name": "Python 3"
    },
    "language_info": {
      "name": "python"
    }
  },
  "cells": [
    {
      "cell_type": "markdown",
      "source": [
        "# Data Preprocessing\n",
        "\n",
        "**Note: Due to proprietary considerations and data privacy, certain outputs and details have been deleted or anonymized. Only the results necessary to support the research findings are provided, in order to protect information.**"
      ],
      "metadata": {
        "id": "JGgZfUe4h83i"
      }
    },
    {
      "cell_type": "code",
      "execution_count": 2,
      "metadata": {
        "id": "BDatBDXEbnAG"
      },
      "outputs": [],
      "source": [
        "# import necessary libaries\n",
        "import numpy as np\n",
        "import pandas as pd\n",
        "import seaborn as sns\n",
        "import matplotlib.pyplot as plt\n",
        "import IPython\n",
        "from IPython.display import Javascript\n",
        "from IPython.display import display\n",
        "from sklearn.linear_model import LinearRegression\n",
        "from wordcloud import WordCloud\n",
        "import re\n",
        "import warnings\n",
        "warnings.filterwarnings(\"ignore\")\n",
        "warnings.filterwarnings(\"ignore\", category=DeprecationWarning)\n",
        "warnings.filterwarnings(\"ignore\", message=\"should_run_async will not call transform_cell automatically in the future\")\n",
        "%matplotlib inline\n",
        "pd.set_option('display.max_columns', None)"
      ]
    },
    {
      "cell_type": "code",
      "source": [
        "# folder directory\n",
        "%cd '/##'"
      ],
      "metadata": {
        "id": "7qnizjY2bvgU"
      },
      "execution_count": null,
      "outputs": []
    },
    {
      "cell_type": "markdown",
      "source": [
        "## Load Conversations.csv file"
      ],
      "metadata": {
        "id": "0S4BdJqbOsqp"
      }
    },
    {
      "cell_type": "code",
      "source": [
        "# Define column names as a list\n",
        "column_names = ['Conversation_ID', 'Email_Conversation_Count', 'Email_ID_List']\n",
        "\n",
        "# read file into dataframe\n",
        "conversation = pd.read_csv('Conversations.csv', header=None, names=column_names)\n",
        "# conversation"
      ],
      "metadata": {
        "id": "n0hASDWqbvjs"
      },
      "execution_count": 6,
      "outputs": []
    },
    {
      "cell_type": "code",
      "source": [
        "# check total\n",
        "conversation['Email_Conversation_Count'].sum()"
      ],
      "metadata": {
        "colab": {
          "base_uri": "https://localhost:8080/"
        },
        "id": "JBw4VQJM8qew",
        "outputId": "43eb4895-7796-4e42-f2a7-957b142d50b5"
      },
      "execution_count": 7,
      "outputs": [
        {
          "output_type": "execute_result",
          "data": {
            "text/plain": [
              "np.int64(92165)"
            ]
          },
          "metadata": {},
          "execution_count": 7
        }
      ]
    },
    {
      "cell_type": "markdown",
      "source": [
        "## Load sos_Email.csv file"
      ],
      "metadata": {
        "id": "UXGzsoISPA0H"
      }
    },
    {
      "cell_type": "code",
      "source": [
        "# Define column names as a list\n",
        "column_names = ['Email_ID', 'GUID', 'Revision_ID', 'Time_received', 'Subject_Sender', 'Sender_Address', 'Time_Modified', 'Conversation_ID', 'Message_ID', 'Filehash' ]\n",
        "\n",
        "# read into dataframe\n",
        "sos_email = pd.read_csv('sos_Email.csv', header=None, names=column_names)\n",
        "# sos_email\n",
        "print(sos_email.shape)"
      ],
      "metadata": {
        "colab": {
          "base_uri": "https://localhost:8080/"
        },
        "id": "k7YzcOqMchZW",
        "outputId": "e722bae1-1203-48e1-f567-d53c0785b5e8"
      },
      "execution_count": 8,
      "outputs": [
        {
          "output_type": "stream",
          "name": "stdout",
          "text": [
            "(121635, 10)\n"
          ]
        }
      ]
    },
    {
      "cell_type": "code",
      "source": [
        "# check total\n",
        "sos_email['Email_ID'].nunique()"
      ],
      "metadata": {
        "colab": {
          "base_uri": "https://localhost:8080/"
        },
        "id": "EvZnUE1mUBzj",
        "outputId": "5a2485d0-f587-475b-c0e7-e20fbf7af6cb"
      },
      "execution_count": 7,
      "outputs": [
        {
          "output_type": "execute_result",
          "data": {
            "text/plain": [
              "121635"
            ]
          },
          "metadata": {},
          "execution_count": 7
        }
      ]
    },
    {
      "cell_type": "code",
      "source": [
        "# inspect some message trend\n",
        "# sos_email.query('Conversation_ID == \"###\"')"
      ],
      "metadata": {
        "id": "BC7EV6J2X2G1"
      },
      "execution_count": 30,
      "outputs": []
    },
    {
      "cell_type": "code",
      "source": [],
      "metadata": {
        "id": "XdW5LvBcX3Ds"
      },
      "execution_count": 8,
      "outputs": []
    },
    {
      "cell_type": "code",
      "source": [
        "# Display the types and check for missing values\n",
        "print(\"Data types before conversion:\\n\", sos_email.dtypes)\n",
        "print(\"Missing values:\\n\", sos_email['Revision_ID'].isna().sum())"
      ],
      "metadata": {
        "id": "8GJBwjSLTwFY"
      },
      "execution_count": null,
      "outputs": []
    },
    {
      "cell_type": "markdown",
      "source": [
        "## Load sos_Revision.csv file"
      ],
      "metadata": {
        "id": "eHzWyw8yPb2U"
      }
    },
    {
      "cell_type": "code",
      "source": [
        "# Define column names as a list\n",
        "column_names = ['Revision_ID', 'Email_Registered_By_ID', 'Document_ID', 'Status_ID', 'Revision_No', 'File_Storage_Location', 'File_Realname', 'Locked_Date', 'Locked_Person_ID',\n",
        "                'Latest_Revision', 'Time_Modify', 'Document_Reference_Number', 'Revision_Date', 'Correspondence_Recipient_Person_ID', 'Correspondence_Sender_ID',\n",
        "                'Correspondence_Recipient_Office_ID', 'Correspondence_Transmittal_ID', 'Date_Uploaded', 'Title', 'Private_Status', 'File_Size', 'File_Type',\n",
        "                'Branch_Office_From_ID', 'MD5', 'Approval_Status', 'Drawing_Discipline_ID', 'Deleted_Status', 'Person_ID_Deleted']\n",
        "\n",
        "\n",
        "# read into dataframe\n",
        "revision = pd.read_csv('sos_Revision.csv', header=None, names=column_names)\n",
        "# revision\n",
        "print(revision.shape)"
      ],
      "metadata": {
        "colab": {
          "base_uri": "https://localhost:8080/"
        },
        "id": "8Tl0EjMOjUS4",
        "outputId": "34c67442-cb58-43d3-b5fe-ed93a8fbd4e2"
      },
      "execution_count": 9,
      "outputs": [
        {
          "output_type": "stream",
          "name": "stdout",
          "text": [
            "(185642, 28)\n"
          ]
        }
      ]
    },
    {
      "cell_type": "markdown",
      "source": [
        "## Load sos_Email_To_Revision.csv File"
      ],
      "metadata": {
        "id": "dv5t_3VLPq-Z"
      }
    },
    {
      "cell_type": "code",
      "source": [
        "# Define column names as a list\n",
        "column_names = ['Email_ID', 'Revision_ID', 'Time_Created', 'Time_Modified']\n",
        "\n",
        "# read into dataframe\n",
        "sos_Email_To_Revision = pd.read_csv('sos_Email_To_Revision.csv', header=None, names=column_names)\n",
        "# sos_Email_To_Revision\n",
        "print(sos_Email_To_Revision.shape)"
      ],
      "metadata": {
        "colab": {
          "base_uri": "https://localhost:8080/"
        },
        "id": "xaiL_u68qLj2",
        "outputId": "85e7608c-7d59-4703-d654-1973309fa55b"
      },
      "execution_count": 10,
      "outputs": [
        {
          "output_type": "stream",
          "name": "stdout",
          "text": [
            "(29968, 4)\n"
          ]
        }
      ]
    },
    {
      "cell_type": "markdown",
      "source": [
        "## Load raw_text.csv File"
      ],
      "metadata": {
        "id": "M0kAO3wcP36t"
      }
    },
    {
      "cell_type": "code",
      "source": [
        "raw_text = pd.read_csv('raw_text.csv')\n",
        "# raw_text\n",
        "print(raw_text.shape)"
      ],
      "metadata": {
        "colab": {
          "base_uri": "https://localhost:8080/"
        },
        "id": "5cgRPm81rS1_",
        "outputId": "aea40251-e6d4-4bc7-9fdf-86ea9c08fa3a"
      },
      "execution_count": 11,
      "outputs": [
        {
          "output_type": "stream",
          "name": "stdout",
          "text": [
            "(172400, 5)\n"
          ]
        }
      ]
    },
    {
      "cell_type": "code",
      "source": [
        "# check unique values\n",
        "raw_text['Revision_ID'].nunique()"
      ],
      "metadata": {
        "colab": {
          "base_uri": "https://localhost:8080/"
        },
        "id": "IdMsYWs2rzHw",
        "outputId": "140f3f2c-9308-4116-8f2e-82dc9ff97f22"
      },
      "execution_count": 13,
      "outputs": [
        {
          "output_type": "execute_result",
          "data": {
            "text/plain": [
              "171372"
            ]
          },
          "metadata": {},
          "execution_count": 13
        }
      ]
    },
    {
      "cell_type": "code",
      "source": [
        "import pandas as pd\n",
        "\n",
        "# Group by 'Revision_ID' and count each group\n",
        "grouped = raw_text.groupby('Revision_ID').size()\n",
        "\n",
        "# Filter groups where count is greater than 1 to find duplicates\n",
        "duplicates = grouped[grouped > 1]\n",
        "\n",
        "# Print the duplicates and their counts\n",
        "print(\"Duplicate Revision_IDs and their counts:\")\n",
        "# print(duplicates)\n",
        "print(duplicates.sum())"
      ],
      "metadata": {
        "colab": {
          "base_uri": "https://localhost:8080/"
        },
        "id": "cYybW3cH1YZL",
        "outputId": "fd1d1c9e-21c8-47a4-deed-66a71c29fa77"
      },
      "execution_count": 14,
      "outputs": [
        {
          "output_type": "stream",
          "name": "stdout",
          "text": [
            "Duplicate Revision_IDs and their counts:\n",
            "1868\n"
          ]
        }
      ]
    },
    {
      "cell_type": "code",
      "source": [
        "raw_text.query('Revision_ID == ####')"
      ],
      "metadata": {
        "id": "sBKOB_wv2sAj"
      },
      "execution_count": null,
      "outputs": []
    },
    {
      "cell_type": "code",
      "source": [
        "# inspect raw text - raw email\n",
        "\n",
        "# raw_text['raw_text'].iloc[43068]\n",
        "# raw_text['raw_text'].iloc[249]"
      ],
      "metadata": {
        "id": "HLgdDEq33rKR"
      },
      "execution_count": 16,
      "outputs": []
    },
    {
      "cell_type": "markdown",
      "source": [
        "# Merging Dataframes"
      ],
      "metadata": {
        "id": "8XQBHKBuebzb"
      }
    },
    {
      "cell_type": "code",
      "source": [
        "# Merge sos_email with revision on 'Revision_ID', assuming 'revision' contains the correct and complete set of 'Revision_ID'\n",
        "# Use 'left' merge to keep all records from sos_email and match entries from revision\n",
        "new_sos_email = pd.merge(sos_email, revision[['Revision_ID', 'Email_Registered_By_ID', 'Document_ID']], on='Revision_ID', how='left')\n",
        "new_sos_email\n",
        "print(new_sos_email.shape)"
      ],
      "metadata": {
        "colab": {
          "base_uri": "https://localhost:8080/"
        },
        "id": "LgjnW28T4IGj",
        "outputId": "2869ef6e-a593-4bf9-d97c-59f83e317af9"
      },
      "execution_count": 18,
      "outputs": [
        {
          "output_type": "stream",
          "name": "stdout",
          "text": [
            "(121635, 12)\n"
          ]
        }
      ]
    },
    {
      "cell_type": "code",
      "source": [
        "# check unique value count\n",
        "raw_text['Revision_ID'].nunique()"
      ],
      "metadata": {
        "colab": {
          "base_uri": "https://localhost:8080/"
        },
        "id": "lYB5djhheyHW",
        "outputId": "92d5d8b7-bacb-4a1b-f1ea-2f84cb91a932"
      },
      "execution_count": 18,
      "outputs": [
        {
          "output_type": "execute_result",
          "data": {
            "text/plain": [
              "171372"
            ]
          },
          "metadata": {},
          "execution_count": 18
        }
      ]
    },
    {
      "cell_type": "code",
      "source": [
        "# Merge the two dataframes on 'Email_ID'\n",
        "merged_df = pd.merge(sos_email, sos_Email_To_Revision[['Email_ID', 'Revision_ID']], on='Email_ID', how='left', suffixes=('', '_from_sos'))\n",
        "\n",
        "# Fill NaN values in 'Revision_ID' with values from 'Revision_ID_from_sos'\n",
        "sos_email['Revision_ID'] = sos_email['Revision_ID'].fillna(merged_df['Revision_ID_from_sos'])\n",
        "\n",
        "# Check if the NaN values are filled\n",
        "# sos_email\n",
        "print(sos_email.shape)"
      ],
      "metadata": {
        "colab": {
          "base_uri": "https://localhost:8080/"
        },
        "id": "WJyE9iU0llh3",
        "outputId": "cc834627-f28a-44ed-fe4c-1dfbfbeb87b3"
      },
      "execution_count": 19,
      "outputs": [
        {
          "output_type": "stream",
          "name": "stdout",
          "text": [
            "(121635, 10)\n"
          ]
        }
      ]
    },
    {
      "cell_type": "code",
      "source": [
        "# check missing values\n",
        "print(\"Missing values:\\n\", sos_email['Revision_ID'].isna().sum())"
      ],
      "metadata": {
        "colab": {
          "base_uri": "https://localhost:8080/"
        },
        "id": "uxpUSGIvHU4-",
        "outputId": "2e38f775-5c0a-42e5-a5db-a9a5abc80914"
      },
      "execution_count": 20,
      "outputs": [
        {
          "output_type": "stream",
          "name": "stdout",
          "text": [
            "Missing values:\n",
            " 12195\n"
          ]
        }
      ]
    },
    {
      "cell_type": "code",
      "source": [
        "# check dataframe\n",
        "sos_email"
      ],
      "metadata": {
        "id": "727mdNHvivXn"
      },
      "execution_count": 20,
      "outputs": []
    },
    {
      "cell_type": "code",
      "source": [
        "# check raw text columns\n",
        "raw_text"
      ],
      "metadata": {
        "id": "2H_vD_U3naSd"
      },
      "execution_count": 21,
      "outputs": []
    },
    {
      "cell_type": "code",
      "source": [
        "# check some specific column\n",
        "sos_email['Subject_Sender'].iloc[121633]"
      ],
      "metadata": {
        "id": "HRzTezO5ndWQ"
      },
      "execution_count": null,
      "outputs": []
    },
    {
      "cell_type": "code",
      "source": [
        "# check some specific column\n",
        "raw_text['Title'].iloc[172399]"
      ],
      "metadata": {
        "id": "NS4OpzPInuc2"
      },
      "execution_count": null,
      "outputs": []
    },
    {
      "cell_type": "code",
      "source": [
        "# check few rows\n",
        "sos_email"
      ],
      "metadata": {
        "id": "W4bkLz6Kv0Q1"
      },
      "execution_count": null,
      "outputs": []
    },
    {
      "cell_type": "code",
      "source": [
        "# check datatypes and non null count\n",
        "sos_email.info()"
      ],
      "metadata": {
        "id": "seiDZq93pKmI"
      },
      "execution_count": 22,
      "outputs": []
    },
    {
      "cell_type": "code",
      "source": [
        "# check datatypes and non null count\n",
        "raw_text.info()"
      ],
      "metadata": {
        "id": "tz4z3Af8u8Rf"
      },
      "execution_count": null,
      "outputs": []
    },
    {
      "cell_type": "code",
      "source": [
        "# sos_email[sos_email.isna().any(axis=1)][:50]"
      ],
      "metadata": {
        "id": "EBd17pd5vDHa"
      },
      "execution_count": 28,
      "outputs": []
    },
    {
      "cell_type": "code",
      "source": [
        "# Step 1: Drop rows where Revision_ID is NaN in sos_email\n",
        "sos_email_cleaned = new_sos_email.dropna(subset=['Revision_ID'])\n",
        "\n",
        "# Step 2: Merge with raw_text on Revision_ID\n",
        "sos_raw_text = pd.merge(sos_email_cleaned, raw_text, on='Revision_ID', how='inner')\n",
        "\n",
        "# Displaying the first few rows of the merged dataframe to verify\n",
        "# sos_raw_text\n",
        "print(sos_raw_text.shape)"
      ],
      "metadata": {
        "colab": {
          "base_uri": "https://localhost:8080/"
        },
        "id": "jChSZfJix1Xs",
        "outputId": "36139e99-b001-458a-b18c-0c80fdad8bce"
      },
      "execution_count": 23,
      "outputs": [
        {
          "output_type": "stream",
          "name": "stdout",
          "text": [
            "(108753, 16)\n"
          ]
        }
      ]
    },
    {
      "cell_type": "markdown",
      "source": [
        "### Convert Column to their Respective datatype"
      ],
      "metadata": {
        "id": "9N0cFafERz-R"
      }
    },
    {
      "cell_type": "code",
      "source": [
        "# Replace NaN values with 0 in Personel_ID column\n",
        "sos_raw_text[\"Email_Registered_By_ID\"] = sos_raw_text[\"Email_Registered_By_ID\"].fillna(0)\n",
        "\n",
        "# Convert columns to integer\n",
        "sos_raw_text[\"Email_ID\"] = sos_raw_text[\"Email_ID\"].astype(int)\n",
        "sos_raw_text[\"Document_ID\"] = sos_raw_text[\"Document_ID\"].astype(int)\n",
        "sos_raw_text[\"Revision_ID\"] = sos_raw_text[\"Revision_ID\"].astype(int)\n",
        "sos_raw_text[\"Email_Registered_By_ID\"] = sos_raw_text[\"Email_Registered_By_ID\"].astype(int)\n",
        "\n",
        "# load the csv file\n",
        "sos_raw_text.to_csv('sos_raw_text.csv', index=False )\n",
        "sos_raw_text"
      ],
      "metadata": {
        "id": "qXNcsQCOBb1c"
      },
      "execution_count": null,
      "outputs": []
    },
    {
      "cell_type": "code",
      "source": [
        "# check some revision column\n",
        "revision"
      ],
      "metadata": {
        "id": "pTYt--kK5E4b"
      },
      "execution_count": null,
      "outputs": []
    },
    {
      "cell_type": "markdown",
      "source": [],
      "metadata": {
        "id": "zdyeAjfoosZH"
      }
    },
    {
      "cell_type": "code",
      "source": [
        "# load our merged raw text\n",
        "df = pd.read_csv('sos_raw_text.csv')\n",
        "df"
      ],
      "metadata": {
        "id": "fewu1zwJXL18"
      },
      "execution_count": null,
      "outputs": []
    },
    {
      "cell_type": "markdown",
      "source": [
        "## Extract Name from Sender Email Address"
      ],
      "metadata": {
        "id": "nfKLQq02KH4B"
      }
    },
    {
      "cell_type": "code",
      "source": [
        "# Function to extract sender name from email address\n",
        "def extract_sender_name(email):\n",
        "    # Extract the part before the '@' symbol\n",
        "    name_part = email.split('@')[0]\n",
        "    # Remove digits and non-alphabetic characters except for '.'\n",
        "    name_part = re.sub(r'[^a-zA-Z\\.]', '', name_part)\n",
        "    # Replace '.' with space and capitalize each part\n",
        "    return name_part.replace('.', ' ').title()\n",
        "\n",
        "# Creating new column 'Sender_Name'\n",
        "df['Sender_Name'] = df['Sender_Address'].apply(extract_sender_name)"
      ],
      "metadata": {
        "id": "hbIKDhDi0WZi"
      },
      "execution_count": 34,
      "outputs": []
    },
    {
      "cell_type": "code",
      "source": [
        "# check datatype and non null count\n",
        "# df.info()\n",
        "df.shape"
      ],
      "metadata": {
        "colab": {
          "base_uri": "https://localhost:8080/"
        },
        "id": "DwQAW_D9XVde",
        "outputId": "8cb4d840-a93b-4062-d37a-734543bb07ea"
      },
      "execution_count": 26,
      "outputs": [
        {
          "output_type": "execute_result",
          "data": {
            "text/plain": [
              "(108753, 16)"
            ]
          },
          "metadata": {},
          "execution_count": 26
        }
      ]
    },
    {
      "cell_type": "markdown",
      "source": [
        "## Clean Up the Email Content"
      ],
      "metadata": {
        "id": "SjPEV3ui0i0g"
      }
    },
    {
      "cell_type": "code",
      "source": [
        "# inspect some row\n",
        "df['raw_text'].iloc[0]"
      ],
      "metadata": {
        "id": "NStcBKPr2737"
      },
      "execution_count": null,
      "outputs": []
    },
    {
      "cell_type": "code",
      "source": [
        "# Footers to remove\n",
        "footers = [\n",
        "    '\n",
        "    ###\n",
        "    ###\n",
        "    '\n",
        "]\n",
        "\n",
        "# Combine footers into one regex pattern\n",
        "pattern = '|'.join(footers)\n",
        "\n",
        "# Function to remove footers\n",
        "def remove_footers(email):\n",
        "    return re.sub(pattern, '', email, flags=re.DOTALL | re.IGNORECASE)\n",
        "\n",
        "def preprocess_email(email):\n",
        "    # Remove HTML tags and special characters\n",
        "    email = re.sub(r'<.*?>', ';', email)\n",
        "    email = re.sub(r'\\xa0', ' ', email)\n",
        "    email = re.sub(r'\\[.*?\\]', '', email)\n",
        "\n",
        "    # Replace '\\n' or '\\n ' preceding a capital letter with '. '\n",
        "    email = re.sub(r'\\n\\s*(?=[A-Z])', '. ', email)\n",
        "\n",
        "    # Normalize whitespace\n",
        "    email = re.sub(r'\\s+', ' ', email).strip()\n",
        "\n",
        "    # Identify and isolate each email\n",
        "    email_sections = re.split(r'\\sFrom:\\s', email)\n",
        "    email_sections = [e.strip() for e in email_sections if e.strip()]\n",
        "\n",
        "    # Extract key elements and remove signatures and legal notices\n",
        "    processed_emails = []\n",
        "    for section in email_sections:\n",
        "        header = re.search(r'^(.*?\\nTo:.*?\\nSubject:.*?\\nDate:.*?\\n)', section, re.DOTALL | re.IGNORECASE)\n",
        "        if header:\n",
        "            header_text = header.group(1)\n",
        "            body_text = section.replace(header_text, '').strip()\n",
        "            body_text = re.split(r'Best regards,|Regards,', body_text, flags=re.IGNORECASE)[0].strip()\n",
        "            processed_emails.append(f\"{header_text}\\n{body_text}\")\n",
        "        else:\n",
        "            processed_emails.append(section)\n",
        "\n",
        "    return \"\\n\\n\".join(processed_emails)\n",
        "\n",
        "# apply preprocessing to each email in the DataFrame\n",
        "df['processed_raw_text'] = df['raw_text'].apply(remove_footers).apply(preprocess_email)\n"
      ],
      "metadata": {
        "id": "90QGiy99299j"
      },
      "execution_count": 37,
      "outputs": []
    },
    {
      "cell_type": "code",
      "source": [
        "# Further Preprocessing\n",
        "\n",
        "def clean_email_content(column):\n",
        "    # Define the text cleaning function\n",
        "    def clean_text(text):\n",
        "        # Step 1: Replace two consecutive periods with one period\n",
        "        text = re.sub(r'\\.\\s*\\.', '.', text)\n",
        "        # Step 2: Remove periods following a comma\n",
        "        text = re.sub(r',\\s*\\.', ',', text)\n",
        "        # Step 3: Remove periods following a question mark\n",
        "        text = re.sub(r'\\?\\s*\\.', '?', text)\n",
        "        # Step 4: remove any whitespace before a period\n",
        "        text = re.sub(r'\\s+\\.', '.', text)\n",
        "        # Step 5: Replace two consecutive semicolons with one semicolon\n",
        "        text = re.sub(r'\\;\\s*\\;', ';', text)\n",
        "        # Step 6: Remove periods following a semicolon\n",
        "        text = re.sub(r';\\s*\\.', ';', text)\n",
        "        # remove extra symbols\n",
        "        text = re.sub(r'([*_\\-])\\1{1,}', r'\\1\\1', text)\n",
        "        return text\n",
        "\n",
        "    # Apply the clean_text function to the DataFrame column\n",
        "    return column.apply(clean_text)\n",
        "\n",
        "# apply function\n",
        "df['processed_raw_text'] = clean_email_content(df['processed_raw_text'])"
      ],
      "metadata": {
        "id": "Hzp72D6qJZ1o"
      },
      "execution_count": 38,
      "outputs": []
    },
    {
      "cell_type": "code",
      "source": [
        "# Display the processed emails\n",
        "print(df['processed_raw_text'].iloc[0])"
      ],
      "metadata": {
        "id": "15wLpUPfN4Al"
      },
      "execution_count": null,
      "outputs": []
    },
    {
      "cell_type": "code",
      "source": [
        "# inspect some rows\n",
        "print(df['processed_raw_text'].iloc[10])"
      ],
      "metadata": {
        "id": "iOrDYJwRYXSp"
      },
      "execution_count": null,
      "outputs": []
    },
    {
      "cell_type": "code",
      "source": [
        "# inspect some rows\n",
        "print(df['processed_raw_text'].iloc[80])"
      ],
      "metadata": {
        "id": "qUy0M2BghOYZ"
      },
      "execution_count": null,
      "outputs": []
    },
    {
      "cell_type": "code",
      "source": [
        "# inspect some rows\n",
        "df['raw_text'].iloc[80]"
      ],
      "metadata": {
        "id": "evIU2Y2vq1QZ"
      },
      "execution_count": null,
      "outputs": []
    },
    {
      "cell_type": "markdown",
      "source": [
        "## Extract Receiver Name from Email Content"
      ],
      "metadata": {
        "id": "I6XusdwkvGBe"
      }
    },
    {
      "cell_type": "code",
      "source": [
        "# Function to sanitize and format data\n",
        "def sanitize(text):\n",
        "    return str(text).replace(\"'\", \"\").replace('\"', '').replace('{', '').replace('}', '').strip()\n",
        "\n",
        "# Function to extract recipients\n",
        "def extract_recipients(content):\n",
        "    recipients = [sanitize(email) for email in content.split(';')]\n",
        "    return recipients\n",
        "\n",
        "# Apply the function to the DataFrame\n",
        "df['Receiver_Name'] = df['processed_raw_text'].apply(extract_recipients)\n"
      ],
      "metadata": {
        "id": "ZTQsa5DTq3Bt"
      },
      "execution_count": 43,
      "outputs": []
    },
    {
      "cell_type": "code",
      "source": [
        "# check and inspect dataframe\n",
        "# df"
      ],
      "metadata": {
        "id": "YBYfTVm4ufPm"
      },
      "execution_count": 27,
      "outputs": []
    },
    {
      "cell_type": "code",
      "source": [
        "# inspect some rows\n",
        "df['Receiver_Name'].iloc[5]"
      ],
      "metadata": {
        "id": "iLWq7OCmufVa"
      },
      "execution_count": null,
      "outputs": []
    },
    {
      "cell_type": "code",
      "source": [
        "# inspect some rows\n",
        "df['Sender_Name'].iloc[4]"
      ],
      "metadata": {
        "id": "5gYGX6oT43Yq"
      },
      "execution_count": null,
      "outputs": []
    },
    {
      "cell_type": "markdown",
      "source": [
        "### Process the extracted receiver names"
      ],
      "metadata": {
        "id": "mScQSBRjvhl_"
      }
    },
    {
      "cell_type": "code",
      "source": [
        "# Regular expression to find email addresses\n",
        "email_regex = re.compile(r'\\b[A-Za-z0-9._%+-]+@[A-Za-z0-9.-]+\\.[A-Z|a-z]{2,}\\b')\n",
        "\n",
        "def extract_emails(entry):\n",
        "    if entry is None:  # handle NoneType entries\n",
        "        return None  # return None or an appropriate value for missing data\n",
        "    entry_str = str(entry)  # convert entry to string to prevent TypeError\n",
        "    emails = email_regex.findall(entry_str)\n",
        "    return ', '.join(emails) if emails else None  # return emails as a comma-separated string or None if no emails found\n",
        "\n",
        "\n",
        "# apply the function to the DataFrame column\n",
        "df['receiver_emails'] = df['Receiver_Name'].apply(extract_emails)\n"
      ],
      "metadata": {
        "id": "5gyYopKw8h2e"
      },
      "execution_count": 47,
      "outputs": []
    },
    {
      "cell_type": "code",
      "source": [
        "# inspect some rows\n",
        "df['receiver_emails'].iloc[4]"
      ],
      "metadata": {
        "id": "OUABz3EW8iEj"
      },
      "execution_count": null,
      "outputs": []
    },
    {
      "cell_type": "code",
      "source": [
        "\n",
        "# Function to process each individual email name\n",
        "def process_individual_email(email):\n",
        "    # Split by '@' and take the first part\n",
        "    name_part = email.split('@')[0]\n",
        "    # Remove numbers\n",
        "    name_clean = re.sub(r'\\d+', '', name_part)\n",
        "    # Replace underscores, dashes, and periods with space\n",
        "    name_no_symbols = re.sub(r'[_\\-.]', ' ', name_clean)\n",
        "    # Split on space and capitalize each part\n",
        "    name_parts = name_no_symbols.split()\n",
        "    name_capitalized = ' '.join(part.title() for part in name_parts)\n",
        "    return name_capitalized\n",
        "\n",
        "# Function to process email names, handling multiple emails in a single entry\n",
        "def process_email(emails):\n",
        "    if emails is None:\n",
        "        return None  # or return \"Unknown\" or any other placeholder\n",
        "    # Split the string on commas to separate multiple emails\n",
        "    email_list = emails.split(',')\n",
        "    # Strip whitespace and process each email\n",
        "    processed_emails = [process_individual_email(email.strip()) for email in email_list]\n",
        "    # Join processed names back into a single string, or return as a list\n",
        "    return ', '.join(processed_emails)  # or return processed_emails if list is preferred\n",
        "\n",
        "# apply the function to the DataFrame column\n",
        "df['receiver_emails_names'] = df['receiver_emails'].apply(process_email)\n"
      ],
      "metadata": {
        "id": "t1mfjN2oo3fk"
      },
      "execution_count": 49,
      "outputs": []
    },
    {
      "cell_type": "code",
      "source": [
        "# inspect some rows\n",
        "df['receiver_emails_names'].iloc[4]"
      ],
      "metadata": {
        "id": "FvtZXGLlqf0G"
      },
      "execution_count": null,
      "outputs": []
    },
    {
      "cell_type": "code",
      "source": [
        "# Function to sanitize and format data\n",
        "def sanitize(text):\n",
        "    # Remove unwanted characters and whitespace\n",
        "    return str(text).replace(\"'\", \"\").replace('\"', '').replace('{', '').replace('}', '').strip()\n",
        "\n",
        "# Function to extract entries, count words in each entry, and remove entries with more than 3 words\n",
        "def extract_and_filter_entries(content):\n",
        "    # Split the content by semicolon to handle multiple entries\n",
        "    elements = [sanitize(email) for email in content.split(';')]\n",
        "    # Filter out entries that have more than 3 words\n",
        "    filtered_elements = [element for element in elements if len(element.split()) <= 3]\n",
        "    return filtered_elements\n",
        "\n",
        "# Apply the function to extract names\n",
        "df['Receiver_Name'] = df['processed_raw_text'].apply(extract_and_filter_entries)"
      ],
      "metadata": {
        "id": "-oKmYbFccIZI"
      },
      "execution_count": 51,
      "outputs": []
    },
    {
      "cell_type": "code",
      "source": [
        "# inspect some rows\n",
        "df['Receiver_Name'].iloc[5]"
      ],
      "metadata": {
        "id": "sXD9jEo9cIi8"
      },
      "execution_count": null,
      "outputs": []
    },
    {
      "cell_type": "code",
      "source": [
        "# function to add the initial receiver names extracted and the one process from the email address\n",
        "def combine_and_deduplicate(existing_names, new_names_str):\n",
        "    # Check if new_names_str is None and handle it\n",
        "    if new_names_str is None:\n",
        "        new_names = []\n",
        "    else:\n",
        "        # Convert new names string to list and remove any extra whitespace\n",
        "        new_names = [name.strip() for name in new_names_str.split(',')]\n",
        "\n",
        "    # Combine existing list with new list\n",
        "    combined_names = existing_names + new_names\n",
        "\n",
        "    # Remove duplicates using a set to ensure uniqueness\n",
        "    unique_names = list(set(combined_names))\n",
        "\n",
        "    return unique_names\n",
        "\n",
        "# Apply the function to each row\n",
        "df['Receiver_Name'] = df.apply(lambda row: combine_and_deduplicate(row['Receiver_Name'], row['receiver_emails_names']), axis=1)\n",
        "\n",
        "# Drop the columns: receiver_emails', 'receiver_emails_names', not needed again\n",
        "df = df.drop(columns=['receiver_emails', 'receiver_emails_names'])\n",
        "\n",
        "df\n"
      ],
      "metadata": {
        "id": "EwmmW1-NnBv6"
      },
      "execution_count": null,
      "outputs": []
    },
    {
      "cell_type": "code",
      "source": [
        "# function to remove sender name from receiver name list\n",
        "def remove_sender_from_receivers(row):\n",
        "    # Extract the sender and receivers from the row\n",
        "    sender = row['Sender_Name']\n",
        "    receivers = row['Receiver_Name']\n",
        "\n",
        "    # Clean the receiver list by removing the sender's name\n",
        "    cleaned_receivers = [name for name in receivers if name != sender]\n",
        "\n",
        "    return cleaned_receivers\n",
        "\n",
        "# Apply function\n",
        "df['Receiver_Name'] = df.apply(remove_sender_from_receivers, axis=1)\n",
        "\n",
        "\n",
        "# function to remove some unwanted symbols and words, empty strings\n",
        "def clean_and_filter_names(names):\n",
        "    cleaned_names = []\n",
        "    ignore_keywords = ['CN=', 'BYDAY', 'PARTSTAT', 'INTERVAL', 'WKST', 'ROLE', 'RSVP', 'SUMMARY', 'ATTENDEE']\n",
        "    for name in names:\n",
        "        # Remove unwanted characters and strip spaces\n",
        "        name = name.strip(' ,&')\n",
        "\n",
        "        # Remove any 'Cc:' like prefixes\n",
        "        if ':' in name:\n",
        "            name = name.split(':')[-1].strip()\n",
        "\n",
        "        # Filter out entries with ignore keywords\n",
        "        if not any(keyword in name for keyword in ignore_keywords):\n",
        "            # Add to cleaned list if not empty\n",
        "            if name:\n",
        "                cleaned_names.append(name)\n",
        "    return cleaned_names\n",
        "\n",
        "# Apply function\n",
        "df['Receiver_Name'] = df['Receiver_Name'].apply(clean_and_filter_names)\n",
        "\n",
        "# Define a function to remove commas within first name and last name, also remove duplicate names\n",
        "def duplicate_names_and_commas(names_list):\n",
        "    # Remove commas and duplicates by converting to set and back to list\n",
        "    cleaned_list = list(set(name.replace(',', '') for name in names_list))\n",
        "    return cleaned_list\n",
        "\n",
        "# Apply function\n",
        "df['Receiver_Name'] = df['Receiver_Name'].apply(duplicate_names_and_commas)"
      ],
      "metadata": {
        "id": "cEcELExZyjEF"
      },
      "execution_count": 54,
      "outputs": []
    },
    {
      "cell_type": "code",
      "source": [
        "# inspect df\n",
        "df"
      ],
      "metadata": {
        "id": "ja7aEx1-SoFq"
      },
      "execution_count": null,
      "outputs": []
    },
    {
      "cell_type": "code",
      "source": [
        "# inspect some rows\n",
        "df['Sender_Name'].iloc[3]"
      ],
      "metadata": {
        "id": "xM9pKAmVS0RA"
      },
      "execution_count": null,
      "outputs": []
    },
    {
      "cell_type": "code",
      "source": [
        "# inspect some rows\n",
        "df['Receiver_Name'].iloc[3]"
      ],
      "metadata": {
        "id": "ej8Z-J3BZEhk"
      },
      "execution_count": null,
      "outputs": []
    },
    {
      "cell_type": "markdown",
      "source": [
        "# Rename Needed Columns"
      ],
      "metadata": {
        "id": "C2MZhSnoBg7N"
      }
    },
    {
      "cell_type": "code",
      "source": [
        "df = df.rename(columns={'Title': 'Email_Subject'})\n",
        "df = df.rename(columns={'processed_raw_text': 'Email_Content'})\n",
        "df = df.rename(columns={'Time_received': 'Time_Received'})\n",
        "df = df.rename(columns={'Email_Registered_By_ID': 'Registration_Person_ID'})"
      ],
      "metadata": {
        "id": "em_jEiRmBYad"
      },
      "execution_count": 58,
      "outputs": []
    },
    {
      "cell_type": "code",
      "source": [
        "# List of columns to select\n",
        "selected_columns = ['Conversation_ID', 'Revision_ID', 'Email_ID', 'Document_ID', 'Sender_Name', 'Sender_Address', 'Email_Subject', 'Email_Content', 'Receiver_Name', 'Time_Received', 'Time_Modified',  'Registration_Person_ID',]"
      ],
      "metadata": {
        "id": "wKGbm4-OD1h8"
      },
      "execution_count": 59,
      "outputs": []
    },
    {
      "cell_type": "code",
      "source": [
        "# Selecting the specified columns\n",
        "processed_emails = df[selected_columns]"
      ],
      "metadata": {
        "id": "Tz9-y82Q9gjy"
      },
      "execution_count": 60,
      "outputs": []
    },
    {
      "cell_type": "code",
      "source": [
        "# load the processed file\n",
        "processed_emails.to_csv('processed_sos_raw_text.csv', index=False)\n",
        "processed_emails = pd.read_csv('processed_sos_raw_text.csv')\n",
        "processed_emails.shape"
      ],
      "metadata": {
        "id": "jddK47tIErI8",
        "colab": {
          "base_uri": "https://localhost:8080/"
        },
        "outputId": "03121d8c-2d8e-4f1b-9961-5ead8883b6ef"
      },
      "execution_count": 29,
      "outputs": [
        {
          "output_type": "execute_result",
          "data": {
            "text/plain": [
              "(108753, 12)"
            ]
          },
          "metadata": {},
          "execution_count": 29
        }
      ]
    },
    {
      "cell_type": "code",
      "source": [],
      "metadata": {
        "id": "6EELwdqwhOXX"
      },
      "execution_count": 61,
      "outputs": []
    },
    {
      "cell_type": "markdown",
      "source": [
        "## Total word count of the Dataset (Processed Emails)"
      ],
      "metadata": {
        "id": "drf8XHXdiyqw"
      }
    },
    {
      "cell_type": "code",
      "source": [
        "# Convert all DataFrame values to a single string\n",
        "processed_emails = ' '.join(processed_emails.astype(str).values.flatten())\n",
        "\n",
        "# Split the text into words and count them\n",
        "total_word_count = len(processed_emails.split())\n",
        "\n",
        "print(\"Total word count:\", total_word_count)"
      ],
      "metadata": {
        "colab": {
          "base_uri": "https://localhost:8080/"
        },
        "id": "Vnu7Gp16e46W",
        "outputId": "25403a42-b501-4ea7-9bf2-912d4fddc4ec"
      },
      "execution_count": 62,
      "outputs": [
        {
          "output_type": "stream",
          "name": "stdout",
          "text": [
            "Total word count: 48418329\n"
          ]
        }
      ]
    },
    {
      "cell_type": "code",
      "source": [
        "# inspect some rows\n",
        "processed_emails['Email_Content'].iloc[15493]"
      ],
      "metadata": {
        "id": "eqLmULbmKBIH"
      },
      "execution_count": 66,
      "outputs": []
    },
    {
      "cell_type": "markdown",
      "source": [
        "# Further Data Exploration Analysis"
      ],
      "metadata": {
        "id": "-Ugwszy1GrWv"
      }
    },
    {
      "cell_type": "markdown",
      "source": [
        "## Word Cloud Visualization for Email Content, Sender, and Receiver\n",
        "\n",
        "The aim is to visualize the most frequent words in the email content,  Sender, and Receiver column of the proprocessed email dataframe by generating a word cloud."
      ],
      "metadata": {
        "id": "SKltduGIVXTf"
      }
    },
    {
      "cell_type": "code",
      "source": [
        "from wordcloud import WordCloud, STOPWORDS\n",
        "from collections import Counter\n",
        "\n",
        "# function to plot word cloud (Email Content)\n",
        "def plot_word_cloud(df, column_name):\n",
        "    # Concatenate all text in the specified column into a single string\n",
        "    words = ' '.join(df[column_name].dropna())\n",
        "\n",
        "    if words:  # Check if there are any words to plot\n",
        "        # Generate the word cloud\n",
        "        wordcloud = WordCloud(stopwords=STOPWORDS, background_color='black', width=3000, height=2500).generate(words)\n",
        "\n",
        "        # Plot the word cloud\n",
        "        plt.figure(figsize=(8, 8))\n",
        "        plt.imshow(wordcloud, interpolation='bilinear')\n",
        "\n",
        "        # Set the background color of the figure and axes\n",
        "        plt.gcf().set_facecolor('black')\n",
        "        plt.gca().set_facecolor('black')\n",
        "\n",
        "        # Add the title based on the sentiment\n",
        "        plt.title(f'Word Cloud for {column_name.capitalize()} Email Content\\n', color='white')\n",
        "\n",
        "        # Turn off axis\n",
        "        plt.axis('off')\n",
        "\n",
        "        # Show the plot\n",
        "        plt.show()\n",
        "    else:\n",
        "        print(\"No words to display. Check the DataFrame and column name.\")\n",
        "\n",
        "#call to the function\n",
        "plot_word_cloud(df, 'Email_Content')\n"
      ],
      "metadata": {
        "id": "J53X4jnaViO4"
      },
      "execution_count": null,
      "outputs": []
    },
    {
      "cell_type": "code",
      "source": [
        "# function to plot word (Sender)\n",
        "def plot_word_cloud(df, column_name):\n",
        "    # Concatenate all text in the specified column into a single string\n",
        "    words = ' '.join(df[column_name].dropna())\n",
        "\n",
        "    if words:  # Check if there are any words to plot\n",
        "        # Generate the word cloud\n",
        "        wordcloud = WordCloud(stopwords=STOPWORDS, background_color='black', width=3000, height=2500).generate(words)\n",
        "\n",
        "        # Plot the word cloud\n",
        "        plt.figure(figsize=(8, 8))\n",
        "        plt.imshow(wordcloud, interpolation='bilinear')\n",
        "\n",
        "        # Set the background color of the figure and axes\n",
        "        plt.gcf().set_facecolor('black')\n",
        "        plt.gca().set_facecolor('black')\n",
        "\n",
        "        # Add the title based on the sentiment\n",
        "        plt.title(f'Word Cloud Representation for Email Sender\\n', color='white')\n",
        "\n",
        "        # Turn off axis\n",
        "        plt.axis('off')\n",
        "\n",
        "        # Show the plot\n",
        "        plt.show()\n",
        "    else:\n",
        "        print(\"No words to display. Check the DataFrame and column name.\")\n",
        "\n",
        "# call to the function\n",
        "plot_word_cloud(df, 'Sender_Name')"
      ],
      "metadata": {
        "id": "uKIYjUAUKo38"
      },
      "execution_count": 68,
      "outputs": []
    },
    {
      "cell_type": "code",
      "source": [
        "# function to plot word cloud (Receiver)\n",
        "def plot_word_cloud(df, column_name):\n",
        "    # Flatten all lists of names into a single list\n",
        "    all_names = [name for sublist in df[column_name].dropna() for name in sublist]\n",
        "\n",
        "    if all_names:  # Check if there are any names to plot\n",
        "        # Calculate word frequencies for the full names\n",
        "        word_counts = Counter(all_names)\n",
        "\n",
        "        # Remove top 20 most frequent words\n",
        "        for word, _ in word_counts.most_common(0):\n",
        "            del word_counts[word]\n",
        "\n",
        "        # Generate the word cloud with remaining words\n",
        "        wordcloud = WordCloud(background_color='black', width=3000, height=2500, collocations=False).generate_from_frequencies(word_counts)\n",
        "\n",
        "        # Plot the word cloud\n",
        "        plt.figure(figsize=(8, 8))\n",
        "        plt.imshow(wordcloud, interpolation='bilinear')\n",
        "\n",
        "        # Set the background color of the figure and axes\n",
        "        plt.gcf().set_facecolor('black')\n",
        "        plt.gca().set_facecolor('black')\n",
        "\n",
        "        # Add the title based on the column name\n",
        "        plt.title(f'Word Cloud Representation for Email Recipients\\n', color='white')\n",
        "\n",
        "        # Turn off axis\n",
        "        plt.axis('off')\n",
        "\n",
        "        # Show the plot\n",
        "        plt.show()\n",
        "    else:\n",
        "        print(\"No names to display. Check the DataFrame and column name.\")\n",
        "\n",
        "# Call to the function\n",
        "plot_word_cloud(df, 'Receiver_Name')\n"
      ],
      "metadata": {
        "id": "-CDLOL-zcsWN"
      },
      "execution_count": 69,
      "outputs": []
    },
    {
      "cell_type": "code",
      "source": [
        "# plot Histogram\n",
        "\n",
        "# Calculate the length of each email content in terms of number of words\n",
        "df['email_content_length'] = df['Email_Content'].apply(lambda x: len(x.split()))\n",
        "\n",
        "# Plot the distribution of email content lengths\n",
        "plt.figure(figsize=(12, 7))\n",
        "\n",
        "# Create a histogram for the lengths of email content\n",
        "plt.hist(df['email_content_length'], bins=50, color='#87CEFA', alpha=0.7, label='Email Content Lengths')\n",
        "\n",
        "# Set the background color of the figure and axes to white\n",
        "plt.gcf().set_facecolor('white')\n",
        "plt.gca().set_facecolor('white')\n",
        "\n",
        "# Setting labels, title, and ticks with appropriate color for dark text\n",
        "plt.xlabel('Email Content Length (Number of Words)', color='black')\n",
        "plt.ylabel('Frequency', color='black')\n",
        "plt.title('Distribution of Email Content Lengths', color='black')\n",
        "plt.tick_params(colors='black', which='both')  # Change the colors of the ticks to black\n",
        "\n",
        "# adding faint horizontal grid lines for better readability\n",
        "plt.grid(axis='y', linestyle='-', alpha=0.1, color='grey')\n",
        "\n",
        "# Remove y-tick lines for cleaner aesthetics\n",
        "plt.tick_params(axis='y', which='both', left=False)\n",
        "\n",
        "# Add a legend with black text\n",
        "plt.legend(frameon=False, facecolor='none', edgecolor='none', fontsize=12, labelcolor='black')\n",
        "\n",
        "# Show plot\n",
        "plt.show()\n"
      ],
      "metadata": {
        "colab": {
          "base_uri": "https://localhost:8080/",
          "height": 641
        },
        "id": "DNe6ava7d0NZ",
        "outputId": "12ee5088-dd09-4b01-e1d5-535224d5b0ca"
      },
      "execution_count": 71,
      "outputs": [
        {
          "output_type": "display_data",
          "data": {
            "text/plain": [
              "<Figure size 1200x700 with 1 Axes>"
            ],
            "image/png": "[encoded data removed]"
          },
          "metadata": {}
        }
      ]
    },
    {
      "cell_type": "code",
      "source": [],
      "metadata": {
        "id": "5MsUwN-JmjfM"
      },
      "execution_count": null,
      "outputs": []
    }
  ]
}