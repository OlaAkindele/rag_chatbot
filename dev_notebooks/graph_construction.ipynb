{
  "cells": [
    {
      "cell_type": "markdown",
      "source": [
        "## Knowledge Graph Construction, Embedding Processing, and Vector Index Creation in Neo4j"
      ],
      "metadata": {
        "id": "_0PZdq1_J5IA"
      }
    },
    {
      "cell_type": "code",
      "execution_count": 58,
      "metadata": {
        "colab": {
          "base_uri": "https://localhost:8080/"
        },
        "id": "hCLdqmTPimwd",
        "outputId": "69eb4141-7d9c-4cc8-fbd6-c23a910fd68b"
      },
      "outputs": [
        {
          "output_type": "stream",
          "name": "stdout",
          "text": [
            "/content/drive/My Drive/spencer/SpencerData\n"
          ]
        }
      ],
      "source": [
        "# folder directory\n",
        "%cd '/###'"
      ]
    },
    {
      "cell_type": "code",
      "execution_count": 59,
      "metadata": {
        "id": "0IRiupJ1UrpU"
      },
      "outputs": [],
      "source": [
        "# path to dataset\n",
        "data_path ='/processed_sos_raw_text.csv'"
      ]
    },
    {
      "cell_type": "code",
      "execution_count": 33,
      "metadata": {
        "id": "9gU_LUsnM71J"
      },
      "outputs": [],
      "source": [
        "# install the libraries\n",
        "!pip3 install -q langchain\n",
        "!pip3 install -q openai\n",
        "!pip3 install -q neo4j"
      ]
    },
    {
      "cell_type": "code",
      "execution_count": 34,
      "metadata": {
        "id": "4Y-9yYcQNQBk"
      },
      "outputs": [],
      "source": [
        "import os\n",
        "import json\n",
        "import pandas as pd"
      ]
    },
    {
      "cell_type": "code",
      "execution_count": null,
      "metadata": {
        "id": "7S62YZfmNnpS"
      },
      "outputs": [],
      "source": [
        "# load environment variables from a .env filor or  set it manually\n",
        "!pip3 install python-dotenv\n",
        "from dotenv import load_dotenv\n",
        "load_dotenv()\n",
        "\n",
        "# Set the OpenAI API key env variable manually\n",
        "os.environ[\"OPENAI_API_KEY\"] = \"###\"\n",
        "\n",
        "print(os.environ[\"OPENAI_API_KEY\"])"
      ]
    },
    {
      "cell_type": "markdown",
      "metadata": {
        "id": "pIBBifOtOPYG"
      },
      "source": [
        "# Load the Processed Email Dataset"
      ]
    },
    {
      "cell_type": "code",
      "execution_count": null,
      "metadata": {
        "id": "2oEENV3EOCtD"
      },
      "outputs": [],
      "source": [
        "# load data into dataframe\n",
        "df = pd.read_csv (data_path)\n",
        "df"
      ]
    },
    {
      "cell_type": "code",
      "source": [
        "# confirm the total number of rows and columns\n",
        "df.shape"
      ],
      "metadata": {
        "colab": {
          "base_uri": "https://localhost:8080/"
        },
        "id": "KGAJCQnJNrIe",
        "outputId": "78f668fe-d642-420f-f073-b28b38c8063d"
      },
      "execution_count": 61,
      "outputs": [
        {
          "output_type": "execute_result",
          "data": {
            "text/plain": [
              "(108753, 12)"
            ]
          },
          "metadata": {},
          "execution_count": 61
        }
      ]
    },
    {
      "cell_type": "code",
      "execution_count": null,
      "metadata": {
        "id": "vucZx5tFItSl"
      },
      "outputs": [],
      "source": [
        "# confirmed the datatype\n",
        "df.info()"
      ]
    },
    {
      "cell_type": "code",
      "execution_count": null,
      "metadata": {
        "id": "tf4o5wsGOc3h"
      },
      "outputs": [],
      "source": [
        "# Convert all columns to string except for the date columns and excluding the IDs except for Conversation_ID\n",
        "columns_to_convert = [col for col in df.columns if col not in [\"Time_Received\", \"Time_Modified\"]] # \"Revision_ID\", \"Email_ID\", \"Document_ID\", \"PersoEmail_Registered_By_IDnel_ID\"\n",
        "\n",
        "df[columns_to_convert] = df[columns_to_convert].astype('string')\n",
        "\n",
        "# converting the 'Time_Received' and 'Time_Modified' to datetime format\n",
        "df['Time_Received'] = pd.to_datetime(df['Time_Received'])\n",
        "df['Time_Modified'] = pd.to_datetime(df['Time_Modified'])\n",
        "\n",
        "df.head()"
      ]
    },
    {
      "cell_type": "code",
      "execution_count": 40,
      "metadata": {
        "id": "_8lmFEA3aT_O"
      },
      "outputs": [],
      "source": [
        "!pip3 install -U langchain-community --quiet"
      ]
    },
    {
      "cell_type": "markdown",
      "metadata": {
        "id": "TstSqLZ6CnDZ"
      },
      "source": [
        "# Connect to Neo4j Database"
      ]
    },
    {
      "cell_type": "code",
      "execution_count": 42,
      "metadata": {
        "id": "WhHuoC1xYroY"
      },
      "outputs": [],
      "source": [
        "# Neo4j DB credentials\n",
        "NEO4J_URI=\"neo4j+s://###\"\n",
        "NEO4J_USERNAME=\"neo4j\"\n",
        "NEO4J_PASSWORD=\"####\"\n",
        "NEO4J_DATABASE=\"neo4j\""
      ]
    },
    {
      "cell_type": "code",
      "execution_count": 43,
      "metadata": {
        "id": "Nq9y4lpkZ5e8"
      },
      "outputs": [],
      "source": [
        "from langchain.graphs import Neo4jGraph\n",
        "\n",
        "# connect to neo4j graph\n",
        "graph = Neo4jGraph(\n",
        "    url=NEO4J_URI,\n",
        "    username=NEO4J_USERNAME,\n",
        "    password=NEO4J_PASSWORD\n",
        ")"
      ]
    },
    {
      "cell_type": "code",
      "execution_count": 44,
      "metadata": {
        "id": "g8aJ3YJh7COs"
      },
      "outputs": [],
      "source": [
        "from datetime import datetime\n",
        "\n",
        "# function to sanitize and format data\n",
        "def sanitize(text):\n",
        "    return str(text).replace(\"'\", \"\").replace('\"', '').replace('{', '').replace('}', '').strip()\n",
        "\n",
        "# Function to format datetime for Neo4j\n",
        "def format_datetime(date_str):\n",
        "    dt = datetime.strptime(date_str, '%Y-%m-%d %H:%M:%S')\n",
        "    return dt.strftime('%Y-%m-%dT%H:%M:%S')"
      ]
    },
    {
      "cell_type": "code",
      "execution_count": 45,
      "metadata": {
        "id": "kRnmAPLDIbaw"
      },
      "outputs": [],
      "source": [
        "!pip install -q tiktoken"
      ]
    },
    {
      "cell_type": "code",
      "execution_count": null,
      "metadata": {
        "id": "QUrG4KiTnFVk"
      },
      "outputs": [],
      "source": [
        "!pip install -U langchain-openai --quiet"
      ]
    },
    {
      "cell_type": "markdown",
      "metadata": {
        "id": "DEGFC7T-OSOu"
      },
      "source": [
        "# Create email embedding needed for vector search"
      ]
    },
    {
      "cell_type": "code",
      "execution_count": 48,
      "metadata": {
        "id": "o3Ju16G3OpiZ"
      },
      "outputs": [],
      "source": [
        "# created a copy\n",
        "df = df.copy()\n",
        "df"
      ]
    },
    {
      "cell_type": "code",
      "execution_count": null,
      "metadata": {
        "id": "uN9jeCqmAnce"
      },
      "outputs": [],
      "source": [
        "!pip install --upgrade openai --quiet"
      ]
    },
    {
      "cell_type": "code",
      "execution_count": null,
      "metadata": {
        "id": "v73FNSu3NSNz"
      },
      "outputs": [],
      "source": [
        "df.info()"
      ]
    },
    {
      "cell_type": "code",
      "execution_count": 51,
      "metadata": {
        "id": "2tAfD2VM6yHL",
        "colab": {
          "base_uri": "https://localhost:8080/"
        },
        "outputId": "d2b18a20-dfac-435b-cb46-cb3b9dd132fd"
      },
      "outputs": [
        {
          "output_type": "stream",
          "name": "stdout",
          "text": [
            "Embeddings created and saved to csv\n"
          ]
        }
      ],
      "source": [
        "import openai\n",
        "from datetime import datetime\n",
        "\n",
        "# Set the environment variable\n",
        "os.environ['OPENAI_API_KEY'] = \"###\"\n",
        "\n",
        "# Initialize the OpenAI client\n",
        "openai.api_key = os.getenv('OPENAI_API_KEY')\n",
        "client = openai.OpenAI(api_key=openai.api_key)\n",
        "\n",
        "def get_embedding(text, model=\"text-embedding-3-small\"):\n",
        "    text = text.replace(\"\\n\", \" \")\n",
        "    try:\n",
        "        response = client.embeddings.create(input=[text], model=model)\n",
        "        return response.data[0].embedding\n",
        "    except openai.error.InvalidRequestError as e:\n",
        "        # Log the error\n",
        "        print(f\"Error: {e}\")\n",
        "        return None\n",
        "\n",
        "def sanitize(text):\n",
        "    return str(text).replace(\"'\", \"\").replace('\"', '').replace('{', '').replace('}', '').strip()\n",
        "\n",
        "def format_datetime(date_str):\n",
        "    dt = datetime.strptime(date_str, '%Y-%m-%d %H:%M:%S')\n",
        "    return dt.strftime('%Y-%m-%dT%H:%M:%S')\n",
        "\n",
        "def concatenate_email_fields(row, max_length=10000):\n",
        "    text = (\n",
        "        f\"Sender_Name: {sanitize(row['Sender_Name'])} | \"\n",
        "        f\"Receiver_Name: {sanitize(row['Receiver_Name'])} | \"\n",
        "        f\"Email_Subject: {sanitize(row['Email_Subject'])} | \"\n",
        "        f\"Email_Content: {sanitize(row['Email_Content'])} | \"\n",
        "        f\"Time_Received: {row['Time_Received'].isoformat()} | \"\n",
        "        f\"Sender_Address: {sanitize(row['Sender_Address'])} | \"\n",
        "        f\"Time_Modified: {row['Time_Modified'].isoformat()} | \"\n",
        "        f\"Conversation_ID: {row['Conversation_ID']} | \"\n",
        "        f\"Revision_ID: {row['Revision_ID']} | \"\n",
        "        f\"Email_ID: {row['Email_ID']} | \"\n",
        "        f\"Document_ID: {row['Document_ID']} | \"\n",
        "        f\"Registration_Person_ID: {row['Registration_Person_ID']}\"\n",
        "    )\n",
        "    return text[:max_length]\n",
        "\n",
        "# Create a function to handle the embedding with error handling and logging\n",
        "def process_row(row):\n",
        "    text = concatenate_email_fields(row)\n",
        "    return get_embedding(text)\n",
        "\n",
        "# Apply the function to your dataframe\n",
        "df['embedding'] = df.apply(lambda row: process_row(row), axis=1)\n",
        "\n",
        "# Filter out rows where embedding is None\n",
        "df = df[df['embedding'].notnull()]\n",
        "\n",
        "# Save the dataframe with embeddings to a CSV file\n",
        "df.to_csv('embedded_emails.csv', index=False)\n",
        "\n",
        "print(\"Embeddings created and saved to csv\")\n"
      ]
    },
    {
      "cell_type": "code",
      "execution_count": null,
      "metadata": {
        "id": "kiT4DcdNEjXk"
      },
      "outputs": [],
      "source": [
        "# inspect the column with embeddings\n",
        "df.head()"
      ]
    },
    {
      "cell_type": "code",
      "execution_count": null,
      "metadata": {
        "id": "kVItRg0WEqef"
      },
      "outputs": [],
      "source": [
        "# check datatype\n",
        "df.info()"
      ]
    },
    {
      "cell_type": "markdown",
      "source": [
        "# Neo4j Graph Creation: Nodes, Relationships, and Properties\n"
      ],
      "metadata": {
        "id": "fls-ilizAVCu"
      }
    },
    {
      "cell_type": "code",
      "execution_count": 54,
      "metadata": {
        "id": "7bimeB6UPZy-"
      },
      "outputs": [],
      "source": [
        "df[\"Time_Received\"] = df[\"Time_Received\"].astype(str)\n",
        "df[\"Time_Modified\"] = df[\"Time_Modified\"].astype(str)"
      ]
    },
    {
      "cell_type": "code",
      "execution_count": 55,
      "metadata": {
        "colab": {
          "base_uri": "https://localhost:8080/"
        },
        "id": "Ngcasb6rQban",
        "outputId": "f940ba4f-b9f6-4fd5-fb08-e109ab559b94"
      },
      "outputs": [
        {
          "output_type": "stream",
          "name": "stdout",
          "text": [
            "Graph data created and loaded successfully\n"
          ]
        }
      ],
      "source": [
        "\n",
        "# Function to sanitize and format data\n",
        "def sanitize(text):\n",
        "    return str(text).replace(\"'\", \"\").replace('\"', '').replace('{', '').replace('}', '').strip()\n",
        "\n",
        "# Function to format datetime for Neo4j\n",
        "def format_datetime(date_str):\n",
        "    dt = datetime.strptime(date_str, '%Y-%m-%d %H:%M:%S')\n",
        "    return dt.strftime('%Y-%m-%dT%H:%M:%S')\n",
        "\n",
        "# Create Email nodes and relationships\n",
        "for index, row in df.iterrows():\n",
        "    conversation_id = sanitize(row['Conversation_ID'])\n",
        "    revision_id = int(row['Revision_ID'])\n",
        "    email_id = int(row['Email_ID'])\n",
        "    document_id = int(row['Document_ID'])\n",
        "    registration_person_id = int(row['Registration_Person_ID'])\n",
        "    sender_name = sanitize(row['Sender_Name'])\n",
        "    sender_address = sanitize(row['Sender_Address'])\n",
        "    email_subject = sanitize(row['Email_Subject'])\n",
        "    email_content = sanitize(row['Email_Content'])\n",
        "    receiver_names = row['Receiver_Name'].strip('[]').split(', ')\n",
        "    time_received = format_datetime(row['Time_Received'])\n",
        "    time_modified = format_datetime(row['Time_Modified'])\n",
        "    embedding = row['embedding']\n",
        "\n",
        "    try:\n",
        "        # Create Conversation node\n",
        "        query = f'''\n",
        "        MERGE (c:Conversation {{id: '{conversation_id}'}})\n",
        "        '''\n",
        "        graph.query(query)\n",
        "\n",
        "        # Create Email node and link to Conversation\n",
        "        query = f'''\n",
        "        MERGE (e:Email {{\n",
        "            revisionId: {revision_id},\n",
        "            emailId: {email_id},\n",
        "            documentId: {document_id},\n",
        "            conversationId: '{conversation_id}',\n",
        "            senderName: '{sender_name}',\n",
        "            senderAddress: '{sender_address}',\n",
        "            subject: '{email_subject}',\n",
        "            content: '{email_content}',\n",
        "            timeReceived: datetime(\"{time_received}\"),\n",
        "            timeModified: datetime(\"{time_modified}\"),\n",
        "            embedding: {embedding}\n",
        "        }})\n",
        "        MERGE (e)-[:PART_OF]->(c)\n",
        "        '''\n",
        "        graph.query(query)\n",
        "\n",
        "        # Create Person nodes and SENT relationships\n",
        "        query = f'''\n",
        "        MERGE (sender:Person {{email: '{sender_name}'}})\n",
        "        WITH sender\n",
        "        MATCH (e:Email {{revisionId: {revision_id}}})\n",
        "        MERGE (sender)-[:SENT]->(e)\n",
        "        '''\n",
        "        graph.query(query)\n",
        "\n",
        "        # Create RECEIVED relationships using Receiver_Name column\n",
        "        for receiver in receiver_names:\n",
        "            receiver = sanitize(receiver.strip().strip(\"'\"))\n",
        "            query = f'''\n",
        "            MERGE (receiver:Person {{email: '{receiver}'}})\n",
        "            WITH receiver\n",
        "            MATCH (e:Email {{revisionId: {revision_id}}})\n",
        "            MERGE (receiver)-[:RECEIVED]->(e)\n",
        "            '''\n",
        "            graph.query(query)\n",
        "\n",
        "    except Exception as e:\n",
        "        print(f\"Error processing record {revision_id}: {e}\")\n",
        "\n",
        "print(\"Graph data created and loaded successfully\")"
      ]
    },
    {
      "cell_type": "markdown",
      "source": [
        "# Creating a Vector Index on Email Embeddings in Neo4j\n"
      ],
      "metadata": {
        "id": "3jfwLTO-AtpL"
      }
    },
    {
      "cell_type": "code",
      "source": [
        "from neo4j import GraphDatabase\n",
        "\n",
        "# Create the driver instance\n",
        "driver = GraphDatabase.driver(NEO4J_URI, auth=(NEO4J_USERNAME, NEO4J_PASSWORD))\n",
        "\n",
        "# Define the Cypher command to create the vector index\n",
        "create_index_cypher = \"\"\"\n",
        "CREATE VECTOR INDEX emailEmbeddings IF NOT EXISTS\n",
        "FOR (e:Email)\n",
        "ON (e.embedding)\n",
        "OPTIONS {\n",
        "  indexConfig: {\n",
        "    `vector.dimensions`: 1536,\n",
        "    `vector.similarity_function`: 'cosine'\n",
        "  }\n",
        "}\n",
        "\"\"\"\n",
        "\n",
        "# execute the Cypher command\n",
        "with driver.session() as session:\n",
        "    session.run(create_index_cypher)\n",
        "\n",
        "print(\"Vector index 'emailEmbeddings' has been created (if it did not exist)\")\n"
      ],
      "metadata": {
        "id": "wUgHtiFZfymx",
        "colab": {
          "base_uri": "https://localhost:8080/"
        },
        "outputId": "61b75025-6ff4-4a51-a9b9-4c67f6c10863"
      },
      "execution_count": 62,
      "outputs": [
        {
          "output_type": "stream",
          "name": "stdout",
          "text": [
            "Vector index 'emailEmbeddings' has been created (if it did not exist)\n"
          ]
        }
      ]
    }
  ],
  "metadata": {
    "colab": {
      "provenance": []
    },
    "kernelspec": {
      "display_name": "Python 3",
      "name": "python3"
    },
    "language_info": {
      "name": "python"
    }
  },
  "nbformat": 4,
  "nbformat_minor": 0
}